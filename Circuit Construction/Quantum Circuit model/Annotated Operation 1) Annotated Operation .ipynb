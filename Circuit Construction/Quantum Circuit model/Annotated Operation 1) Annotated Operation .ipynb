{
 "cells": [
  {
   "cell_type": "markdown",
   "metadata": {
    "id": "VIbroOYR7ut4"
   },
   "source": [
    "#### **1.2. Annotated Operation**\n",
    "\n",
    "Let's start with a definition here. An Annotated Operation is a type of operation used in quantum circuits. To elaborate a bit more, it takes a basic operation and adds various modifiers to it.\n",
    "\n",
    "As we discussed before, it is worth reminding that in quantum computing, basic operations are usually known as quantum gates. However, gates are not the only basic operations. Basic operations include:\n",
    "\n",
    "- Quantum Gates,\n",
    "- Measurement Operations,\n",
    "- State Preparation,\n",
    "- Phase Gates,\n",
    "- Composite Operations (QFT, Grover Diffusion Operator),\n",
    "- Modifiers,\n",
    "- Entanglement Operations (Bell, GHZ state)\n",
    "\n",
    "We mentioned above that this operator adds various modifiers. Currently, the supported modifiers in the latest version are:\n",
    "\n",
    "* **InverseModifier**: Takes the inverse of the basic operation.\n",
    "* **ControlModifier**: Adds control to the basic operation, for example, controlled gates.\n",
    "* **PowerModifier**: Takes a power of the basic operation, for example, applying the gate a specific number of times."
   ]
  },
  {
   "cell_type": "markdown",
   "metadata": {
    "id": "UDscxItsyz7u"
   },
   "source": [
    "**So why do we use these operations?** There are actually some important reasons for this.\n",
    "\n",
    "These are:\n",
    "\n",
    "* **High-level abstraction,**\n",
    "* **Transpiler optimizations,**\n",
    "* **Dynamic circuit definition**\n",
    "\n",
    "Let's discuss these a bit more.\n",
    "\n",
    "* **1. High-Level Abstraction**\n",
    "\n",
    "High-Level Abstraction is the process of breaking down complex systems into simpler and more understandable parts. This allows users to focus on the overall functionality and logic without delving into the system's details. In quantum computing, abstraction makes it easier to understand and manage quantum circuits.\n",
    "\n",
    "Abstract Representation expresses an operation or system in general terms without providing all the details. This enables users or developers to understand the overall functionality and logic of the system without dealing with the underlying details.\n",
    "\n",
    "Why do we use abstract representations? Because of:\n",
    "* Ease of Use and Understandability,\n",
    "* Error Reduction,\n",
    "* Optimization.\n",
    "\n",
    "**Let's immediately do an example and discuss it. For instance, what do we need to do if we want to take the inverse of a gate in a quantum circuit?**"
   ]
  },
  {
   "cell_type": "code",
   "execution_count": 2,
   "metadata": {
    "colab": {
     "base_uri": "https://localhost:8080/"
    },
    "id": "T89TgIaxy8GH",
    "outputId": "93cc972e-c782-47c4-be12-a8c4e38e2b09"
   },
   "outputs": [
    {
     "name": "stdout",
     "output_type": "stream",
     "text": [
      "<qiskit.circuit.annotated_operation.AnnotatedOperation object at 0x7ed3fd811990>\n"
     ]
    }
   ],
   "source": [
    "from qiskit.circuit.library import HGate\n",
    "from qiskit.circuit import AnnotatedOperation, InverseModifier\n",
    "\n",
    "# Temel işlem: H kapısı\n",
    "base_op = HGate()\n",
    "\n",
    "# Annotasyonlu işlem: H kapısının tersi\n",
    "annotated_op = AnnotatedOperation(base_op, [InverseModifier()])\n",
    "\n",
    "print(annotated_op)"
   ]
  },
  {
   "cell_type": "markdown",
   "metadata": {
    "id": "KkBg9ojMy_gS"
   },
   "source": [
    "**In summary,**\n",
    "\n",
    "Abstract representation allows for the simple and understandable representation of quantum circuits. Annotated operations use this abstraction to let users focus on the overall functionality without dealing with details, by combining basic operations and modifiers. This facilitates and optimizes the development of quantum circuits."
   ]
  },
  {
   "cell_type": "markdown",
   "metadata": {
    "id": "riVtd7ctzBEq"
   },
   "source": [
    "* **2. Transpiler Optimizations**\n",
    "\n",
    "Annotated operations are particularly useful during transpiler optimizations. A transpiler is a compiler that converts a quantum circuit into a form that can be executed by the hardware. Annotated operations provide more flexible and optimized transformations during this process.\n",
    "\n",
    "For example:\n",
    "\n",
    "* Automatically removing an inverse gate that immediately follows a gate.\n",
    "* Optimizing controlled gates."
   ]
  },
  {
   "cell_type": "markdown",
   "metadata": {
    "id": "JHoUrskazMBt"
   },
   "source": [
    "* **3. Dynamic Circuit Definition**\n",
    "\n",
    "The circuit definition with annotated operations is done during transpilation, not at the time the operation is created. This allows the operation to be dynamically optimized, resulting in more efficient circuits."
   ]
  },
  {
   "cell_type": "markdown",
   "metadata": {
    "id": "pm213FgZzUHX"
   },
   "source": [
    "**In summary:**\n",
    "\n",
    "The main purpose of annotated operations is to manage quantum circuits in a more flexible, optimized, and understandable way. They serve the following specific purposes:\n",
    "\n",
    "* Complexity Reduction: By representing complex operations in a simpler and more understandable form, they facilitate the development of quantum algorithms.\n",
    "* Performance Enhancement: Through transpiler optimizations, they enable the creation of more efficient quantum circuits.\n",
    "* Modularity: The ability to dynamically modify operations makes it possible to create more modular and reusable quantum circuits."
   ]
  }
 ],
 "metadata": {
  "colab": {
   "provenance": []
  },
  "kernelspec": {
   "display_name": "Python 3 (ipykernel)",
   "language": "python",
   "name": "python3"
  },
  "language_info": {
   "codemirror_mode": {
    "name": "ipython",
    "version": 3
   },
   "file_extension": ".py",
   "mimetype": "text/x-python",
   "name": "python",
   "nbconvert_exporter": "python",
   "pygments_lexer": "ipython3",
   "version": "3.12.4"
  }
 },
 "nbformat": 4,
 "nbformat_minor": 4
}
