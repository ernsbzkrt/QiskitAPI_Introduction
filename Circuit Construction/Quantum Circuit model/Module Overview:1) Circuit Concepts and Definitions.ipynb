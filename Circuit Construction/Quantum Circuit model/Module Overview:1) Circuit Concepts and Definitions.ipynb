{
  "nbformat": 4,
  "nbformat_minor": 0,
  "metadata": {
    "colab": {
      "provenance": []
    },
    "kernelspec": {
      "name": "python3",
      "display_name": "Python 3"
    },
    "language_info": {
      "name": "python"
    }
  },
  "cells": [
    {
      "cell_type": "markdown",
      "source": [
        "#**Circuit construction:**\n"
      ],
      "metadata": {
        "id": "KHhlLrnHboIe"
      }
    },
    {
      "cell_type": "markdown",
      "source": [
        "##**1. Quantum Circuit Model**\n",
        "\n",
        "######**qiskit.circuit**\n"
      ],
      "metadata": {
        "id": "T5Kg61igbqOt"
      }
    },
    {
      "cell_type": "markdown",
      "source": [
        "### **1.1. Module Overview**\n",
        "\n",
        "The foundation of quantum computing is the quantum circuit. This is a computational process that can be step-by-step executed in a quantum processing unit (QPU). The circuit operates on quantum data, often referred to as \"qubits,\" and includes basic operations such as unitary operations, measurements, and resets. Additionally, the circuit may involve classical data operations executed by controllers of the QPU, which encompass real-time computations and control flows.\n",
        "\n",
        "Circuits are the building blocks used to construct quantum programs at a low level. They are utilized to form higher-level structures, such as fundamental elements of quantum computation. These structures combine the outcomes of multiple quantum circuit executions, converting them into usable classical data and error statistics, incorporating advanced error correction techniques and measurement optimizations.\n",
        "\n",
        "In Qiskit, circuits can be defined in two different ways:\n",
        "\n",
        "- An abstract circuit is defined with virtual qubits and high-level operations resembling algorithms and user-defined gates.\n",
        "  \n",
        "- A physical circuit is based on the qubits of a specific hardware platform and includes only operations directly supported by this platform. This is also known as an Instruction Set Architecture (ISA) circuit."
      ],
      "metadata": {
        "id": "qrwAyy1ebrT1"
      }
    },
    {
      "cell_type": "markdown",
      "source": [
        "-----------\n",
        "\n",
        "We will discuss this further later on, but to transform from an abstract circuit to a physical circuit, we use Qiskit's **transpile()** function.\n",
        "\n",
        "------------------"
      ],
      "metadata": {
        "id": "oyIqBqHtb6w1"
      }
    },
    {
      "cell_type": "markdown",
      "source": [
        "#### **1.1.1. Concepts and Definitions of Quantum Circuits**\n",
        "\n",
        "When discussing Quantum Circuits, there are numerous terms used, some of which are found in academic studies related to Quantum Computing. Some are specific to Quantum Software packages, and others are particularly unique to Qiskit.\n",
        "\n",
        "In this study, we will discuss these terms and explain them in a straightforward manner. Unlike an API, in this work, we will thoroughly examine these concepts, discussing them in detail and exploring their cause-and-effect relationships."
      ],
      "metadata": {
        "id": "K5xeOHFZb7Q2"
      }
    },
    {
      "cell_type": "markdown",
      "source": [
        "- **abstract circuit**\n",
        "\n",
        "An abstract circuit is a circuit defined through mathematical operations and virtual qubits. This approach is commonly used when contemplating quantum algorithms. An abstract circuit may encompass arbitrary unit operations, measurements, and even real-time classical computations. In such circuits, there are no restrictions on which qubits can interact with each other.\n",
        "\n",
        "To convert an abstract circuit into a physical circuit, we use Qiskit's transpile package. This process translates operations from the abstract circuit into executable operations on real quantum hardware. This enables abstract circuits to be used in real-world applications."
      ],
      "metadata": {
        "id": "XNavLCgSjtrb"
      }
    },
    {
      "cell_type": "markdown",
      "source": [
        "**What is an Abstract Circuit?**\n",
        "\n",
        "-------------------------------\n",
        "\n",
        "An abstract circuit is a term used in quantum computing. It refers to a circuit defined through mathematical operations and virtual qubits. Abstract circuits are typically used in the development or analysis of quantum algorithms. These circuits represent operations theoretically defined and independent of real hardware, illustrating computational steps on a quantum computer. They may not be applicable on actual quantum hardware but are crucial for theoretical studies and form the basis for designing real-world applications.\n",
        "\n",
        "-------------------------------\n"
      ],
      "metadata": {
        "id": "IfYvIX45j0bb"
      }
    },
    {
      "cell_type": "markdown",
      "source": [
        "- **ancilla qubit**\n",
        "\n",
        "Also known as an auxiliary qubit, this term is commonly used in the field of quantum computing. An **\"ancilla qubit\"** is an additional qubit used in a quantum circuit to perform specific operations on other qubits. Typically, this ancillary qubit functions as a control qubit and is temporarily employed to execute certain steps of a quantum algorithm or protocol.\n",
        "\n",
        "Ancilla qubits can serve several purposes:\n",
        "\n",
        "* Error Correction: Ancilla qubits used in error correction codes help correct errors between qubits.\n",
        "  \n",
        "* Control and CNOT Gates: Auxiliary control qubits can be used to perform specific operations. For instance, the CNOT (controlled-NOT) gate alters the state of a target qubit based on the state of a control qubit.\n",
        "\n",
        "* Quantum Communication: In quantum communication protocols, ancilla qubits can be used for tasks such as data transmission or quantum key distribution.\n",
        "\n",
        "The final state of ancilla qubits often does not matter; what is crucial is their effect on other qubits. Therefore, ancilla qubits are typically used temporarily in a quantum program and are eventually measured and discarded. The final state of these qubits may not directly impact the output of the program."
      ],
      "metadata": {
        "id": "UPtmjSM8kDlU"
      }
    },
    {
      "cell_type": "markdown",
      "source": [
        "- **circuit**\n",
        "\n",
        "In quantum computing, a circuit is a structure that defines an operation. This operation can include fundamental operations such as quantum gates and can be thought of as a sequence of instructions or a plan that encompasses the necessary steps to solve a specific problem.\n",
        "\n",
        "For example, a quantum circuit can represent the steps of a particular algorithm or computation. These steps may involve the application of quantum gates (such as Hadamard, CNOT, or phase gates) and interactions between consecutive qubits.\n",
        "\n",
        "Simply put, a quantum circuit contains a blueprint or instructions for the steps taken to solve a particular problem. It can exist as an abstract concept or as a physically implementable circuit on a real quantum computer. The circuit can be viewed as a set of instructions that define operations to be performed on a quantum processing unit (QPU)."
      ],
      "metadata": {
        "id": "PNfOKkB0kEiV"
      }
    },
    {
      "cell_type": "markdown",
      "source": [
        "* **clbit**\n",
        "\n",
        "Qiskit is a Python library developed by IBM for programming quantum computers.\n",
        "\n",
        "\"clbit\" is a term specific to the Qiskit library and represents a concept related to classical computers.\n",
        "\n",
        "\"clbit\" is short for \"classical bit.\" It denotes the smallest unit of information used in memory or computational operations of a classical computer. A bit is a fundamental data unit that can hold a value of either 0 or 1.\n",
        "\n",
        "In Qiskit, the term \"clbit\" refers to classical bits used to store or process computation results in a quantum program or circuit. During the quantum computing process, operations are performed on quantum bits (qubits), and the results are stored in classical bits (clbits). These clbits are used to obtain outputs from the quantum computer or can be used to process the results of quantum computations on a classical computer."
      ],
      "metadata": {
        "id": "snZ2Gt-QkRAI"
      }
    },
    {
      "cell_type": "markdown",
      "source": [
        "* **gate**\n",
        "\n",
        "The term \"gate\" refers to elementary operations used to perform specific tasks in quantum computers. These operations are also known as quantum gates and are used in quantum circuits. Each quantum gate represents a mathematical operation on one or more qubits, enabling computations in a quantum circuit.\n",
        "\n",
        "Quantum gates are typically represented by unitary matrices. These matrices represent mathematical operations that alter the state of qubits and manipulate quantum superposition or entanglement. For example, the Hadamard gate puts a qubit into a superposition state.\n",
        "\n",
        "Quantum gates are divided into two main categories: single-qubit gates and multi-qubit gates. Single-qubit gates operate on a single qubit, while multi-qubit gates control interactions between two or more qubits.\n",
        "\n",
        "Quantum gates are fundamental building blocks used in quantum computations, allowing the implementation of various algorithms and protocols. Therefore, designing and applying gates correctly is crucial in quantum computing.\n",
        "\n"
      ],
      "metadata": {
        "id": "oWxEw3MxkY6O"
      }
    },
    {
      "cell_type": "markdown",
      "source": [
        "* **hardware qubit**\n",
        "\n",
        "A **\"hardware qubit\"** is the physical representation of a single qubit in a specific quantum computer. Behind this qubit typically lies a specific physical system such as superconducting circuits. Similar to a \"virtual qubit,\" this qubit has specific constraints and can interact with only certain gates or operations.\n",
        "\n",
        "In Qiskit, these hardware qubits are not typically treated individually as physical qubits, but rather as \"logical qubits\" that represent qubits in a QPU (Quantum Processing Unit). Each logical qubit is composed of complex control and error correction involving multiple physical qubits. However, sometimes QPUs directly report their physical qubits to Qiskit, in which case Qiskit treats each physical qubit as a hardware qubit.\n",
        "\n",
        "There can be various constraints and timing concerns between physical and logical qubits. Qiskit encapsulates these constraints and concerns under the concept of \"hardware qubit,\" providing users with the ability to think about and manage qubits in the QPU.\n",
        "\n"
      ],
      "metadata": {
        "id": "CJQlAy18kgQu"
      }
    },
    {
      "cell_type": "markdown",
      "source": [
        "* **instruction set architecture (ISA)**\n",
        "\n",
        "\"Instruction Set Architecture (ISA),\" is the abstract model of which operations are available on which groups of hardware qubits in a specific QPU. For example, a QPU might allow √X and RZ operations on all single hardware qubits, while permitting CX operations on specific pairs of hardware qubits.\n",
        "\n"
      ],
      "metadata": {
        "id": "zxYcqzR_kufX"
      }
    },
    {
      "cell_type": "markdown",
      "source": [
        "* **logical qubit**\n",
        "\n",
        "A **logical qubit** is a collection of multiple physical qubits controlled together by a Quantum Processing Unit (QPU) in a quantum computer. These qubits work together to implement real-time quantum error correction. For the user, a logical qubit behaves like a single qubit, but it is actually achieved through the complex interaction of several physical qubits.\n",
        "\n",
        "In essence, a logical qubit is an abstract representation of several physical qubits working together and combined to provide quantum error correction. This allows users to interact with it as if it were a single qubit, while in reality, it is a structure obtained through the complex collaboration of multiple qubits."
      ],
      "metadata": {
        "id": "Zk_bG_HKk1Yo"
      }
    },
    {
      "cell_type": "markdown",
      "source": [
        "* **measurement**\n",
        "\n",
        "\"Measurement\" is the process of obtaining classical information from a quantum state. Measuring the state of a single qubit typically means determining a specific property of that qubit. For instance, by measuring the state of a qubit, we can determine whether it is in the state 0 or 1.\n",
        "\n",
        "This operation is irreversible, similar to classical computers, meaning once it's done, it cannot be undone. Additionally, the measurement process often disturbs specific quantum relationships between the target qubit and other qubits, especially entanglement and phase coherence.\n",
        "\n",
        "Measurement is a crucial step in quantum computations because it allows information from quantum states to be processed by classical computers. However, performing this operation causes the quantum state to collapse from superposition and can lead to the loss of quantum entanglement. Therefore, measurement is typically performed at the end of quantum algorithms to convert the quantum state into a classical output."
      ],
      "metadata": {
        "id": "2WIdJrhuk2nI"
      }
    },
    {
      "cell_type": "markdown",
      "source": [
        "* **physical circuit**\n",
        "\n",
        "A **physical circuit** is a circuit defined by hardware qubits and quantum operations (ISA) specific to a particular quantum computer. This circuit is associated with a specific computer architecture and may not function properly in a different incompatible architecture.\n",
        "\n",
        "Physical circuits are typically obtained by processing your abstract circuit through Qiskit's transformation processes. This allows you to adapt the abstract circuit you've created to be compatible with the hardware of a specific quantum computer.\n",
        "\n"
      ],
      "metadata": {
        "id": "8GIX-G9nlOqZ"
      }
    },
    {
      "cell_type": "markdown",
      "source": [
        "* **quantum processing unit (QPU)**\n",
        "\n",
        "A **quantum processing unit (QPU)** is hardware that performs quantum operations on quantum information, similar to how classical computers use CPUs for general computation or GPUs for graphics processing. A QPU typically executes a specific set of gates and measurement operations defined by a circuit model. Depending on the technology, some QPUs can also perform real-time classical computations, such as classical control flow and bit-level operations on classical data.\n",
        "\n"
      ],
      "metadata": {
        "id": "T3HyeiHylU68"
      }
    },
    {
      "cell_type": "markdown",
      "source": [
        "* **qubit**\n",
        "\n",
        "A **qubit** is the fundamental unit of quantum information in quantum computers."
      ],
      "metadata": {
        "id": "kDYUmVcIlYdF"
      }
    },
    {
      "cell_type": "markdown",
      "source": [
        "* **real-time classical computation**\n",
        "\n",
        "**\"Real-time classical computation\"** refers to any classical computation that can occur within a single shot of a circuit execution. The results of these computations can impact subsequent operations of the circuit. The amount of real-time classical computation available on specific QPUs can vary significantly depending on factors such as control electronics and the type of qubit technology used. For more information on this topic, it is recommended to refer to the documentation provided by the hardware vendor."
      ],
      "metadata": {
        "id": "hq16TXoGlZ-S"
      }
    },
    {
      "cell_type": "markdown",
      "source": [
        "* **unitary operation**\n",
        "\n",
        "A **unitary operation** is a reversible operation in a quantum state. This means that the state can be returned to its initial state after the operation. All quantum gates, which are the operations applied, possess this property and hence are termed unitary operations. These gates are used to perform computational tasks in quantum computers.\n",
        "\n",
        "* **virtual qubit**\n",
        "\n",
        "A **virtual qubit** is an abstract, mathematical qubit used to construct a theoretical circuit. Virtual qubits are concepts we often use when thinking about quantum algorithms at a high level; they assume that all quantum gates apply universally across all virtual qubits and that all virtual qubits are always interconnected with each other.\n",
        "\n",
        "To map them to hardware, virtual qubits must be assigned to hardware qubits. This mapping does not necessarily have to be one-to-one. Typically, during the execution of a circuit, a virtual qubit may need to be transferred from one hardware qubit to another to meet the matching constraints of the underlying QPU. It is not mandatory that all virtual qubits used in a circuit be mapped to a physical qubit at any point in a physical circuit; a virtual qubit can be measured (collapsing its state) and may never be used again, so a new virtual qubit can take its place. Evaluating these conditions to map a virtual circuit to a physical circuit is the task of Qiskit's transpiler package."
      ],
      "metadata": {
        "id": "SUpeWsKFltQ7"
      }
    }
  ]
}