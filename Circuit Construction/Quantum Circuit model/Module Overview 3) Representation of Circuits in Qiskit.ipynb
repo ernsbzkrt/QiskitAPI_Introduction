{
  "nbformat": 4,
  "nbformat_minor": 0,
  "metadata": {
    "colab": {
      "provenance": []
    },
    "kernelspec": {
      "name": "python3",
      "display_name": "Python 3"
    },
    "language_info": {
      "name": "python"
    }
  },
  "cells": [
    {
      "cell_type": "markdown",
      "source": [
        "### **1.1.3. Representation of Circuits in Qiskit**\n",
        "\n",
        "The primary class used to represent circuits in Qiskit is QuantumCircuit. This class can represent both abstract and physical circuits. More information about the QuantumCircuit class and its many methods can be found in the class documentation.\n",
        "\n",
        "Within a QuantumCircuit, the following components can be found:\n",
        "\n",
        "* **Qubits:** Quantum bits.\n",
        "* **Classical bits:** Classical computer bits.\n",
        "* **Compile-time parameters:** Information on how the circuit should be compiled.\n",
        "* **Real-time variables:** Variables used during the execution of the circuit.\n",
        "* **Other tracking information:** Information related to the data and parameters processed by the circuit.\n",
        "\n",
        "Additionally, within a QuantumCircuit, there exists an array of CircuitInstructions, which encompass specific operations (gates, measurements, etc.) and the qubits and classical bits on which these operations are applied.\n",
        "\n",
        "**Let's delve a bit deeper now.**"
      ],
      "metadata": {
        "id": "sYsOPDHw0QJ2"
      }
    },
    {
      "cell_type": "markdown",
      "source": [
        "### a. Bits and Registers\n",
        "\n",
        "**Qubits and Classical Bits**\n",
        "- Qubits (Quantum Bit) and classical bits (Classical Bit) are represented in Qiskit by a common base class named Bit. This class itself is not directly used but serves as a base for other types of bits.\n",
        "- Qubit: Class representing a quantum bit.\n",
        "- Clbit: Class representing a classical bit.\n",
        "- AncillaQubit: Class representing an ancillary quantum bit, a special type of qubit.\n",
        "\n",
        "**Usage of Bits**\n",
        "- Qubit and Clbit objects can be directly created by users, for example Qubit() or Clbit().\n",
        "- Bits that are the same Python object or have the same index within the same register are considered equal.\n",
        "\n",
        "**Registers**\n",
        "A register is a collection of a series of bits (qubits or classical bits). Registers are used to group bits of the same type together.\n",
        "- QuantumRegister: Consists of a series of qubits.\n",
        "- ClassicalRegister: Consists of a series of classical bits.\n",
        "- AncillaRegister: Used for holding ancillary qubits (less commonly used).\n",
        "\n",
        "**Usage of Registers**\n",
        "- Registers can be created to contain a specified number of bits, for example QuantumRegister(5) creates a register containing five qubits.\n",
        "- Alternatively, registers can be created with a list of pre-existing bits.\n",
        "- Providing neither the size nor the list of bits when creating a register, or providing both simultaneously, will result in an error.\n",
        "\n",
        "**Functions and Properties of Registers**\n",
        "- index: Finds the index of a given bit within this register.\n",
        "- name: Gets the name of the register.\n",
        "- size: Gets the size of the register.\n",
        "\n",
        "**Usage of Registers in Circuits**\n",
        "- Registers are used within QuantumCircuit to group qubits and classical bits.\n",
        "- Registers can appear with a name in circuit visualizations and exports to other languages (e.g., QuantumCircuit.draw(), qasm2, and qasm3).\n",
        "- Classical bits and registers are the fundamental way of representing classical data in Qiskit and remain the most supported method.\n",
        "- Long-term, Qiskit is moving towards a more robust and comprehensive data model for representing classical data."
      ],
      "metadata": {
        "id": "m5lq9DnK0klX"
      }
    },
    {
      "cell_type": "markdown",
      "source": [
        "### b. Instruction Contents\n",
        "\n",
        "Each element of the `QuantumCircuit.data` array is a CircuitInstruction object, also known as an \"instruction context\". This object is a data class representing instructions within a QuantumCircuit, detailing what operations (operations) are to be performed and on which data (qubits and clbits). We'll delve deeper into this in subsequent sections.\n",
        "\n",
        "The **CircuitInstruction class** represents instructions contained within a QuantumCircuit. This class is written in Rust, a programming language known for its performance and safety advantages. Changes made to instances (objects) of the CircuitInstruction class do not directly reflect in the QuantumCircuit circuit. In other words, if you modify an instance of this class, these changes won't automatically appear in the circuit. You cannot directly modify instructions within the circuit through the QuantumCircuit interface. Instead, circuits are created and stored via the QuantumCircuit interface. To modify instructions within the circuit, you need to use an intermediate representation called DAGCircuit in conjunction with a transpiler.\n",
        "\n",
        "The **DAGCircuit** is an intermediate representation used to facilitate easier manipulation of circuits.\n",
        "\n",
        "Methods that add instructions to QuantumCircuit (such as append() and other standard gate methods) return an InstructionSet that points to multiple CircuitInstructions simultaneously. An InstructionSet is a collection of instructions and their contexts. However, InstructionSet is not widely used in Qiskit anymore. It provides limited methods to modify instructions after they have been added and is no longer recommended. Instead, alternative methods are suggested.\n",
        "\n",
        "**In summary:**\n",
        "\n",
        "- CircuitInstruction is an object that specifies what to do and on which data within a circuit.\n",
        "- This object is implemented in Rust and is not directly modifiable.\n",
        "- When adding instructions to QuantumCircuit, methods return an InstructionSet pointing to multiple instructions.\n",
        "- InstructionSet is less commonly used now, and alternative methods are recommended."
      ],
      "metadata": {
        "id": "QLHlLMaA0tLI"
      }
    },
    {
      "cell_type": "markdown",
      "source": [
        "### c. Operations, Instructions, and Gates\n",
        "\n",
        "Each operation within CircuitInstruction is fundamentally referred to as an Operation. This term represents the simplest structure that specifies any action to be performed within a circuit, such as applying a gate or performing a measurement. Every operation utilizes this basic structure when integrated into a circuit. Thus, the Operation interface abstractly and generally represents operations conducted within circuits. It is used in theoretical or abstract circuits, allowing direct addition of mathematical operations or objects to circuits. For example, you can directly add a mathematical object like a quantum operator to a circuit."
      ],
      "metadata": {
        "id": "xzcwjncm0ztP"
      }
    },
    {
      "cell_type": "markdown",
      "source": [
        "**1. Operation()**\n",
        "\n",
        "It is a structure or class that defines operations achievable in a quantum computer.\n",
        "\n",
        "This structure encompasses various operations conducted in quantum circuits. Like all operations in physical circuits, most operations are instances of the more concretely defined \"Instruction\" class. It represents instructions that can be locally executed by a quantum processing unit (QPU). For example, an instruction such as \"Measure\" is an operation that can be locally executed by the quantum processor. Such instructions do not necessarily need to be unitary (i.e., invertible). Operations that are unitary are referred to as \"Gate\" operations. In other words, instructions referred to as \"Gate\" operations are unitary operations, whereas instructions like \"Measure\" may not be unitary."
      ],
      "metadata": {
        "id": "3wsmii-r031H"
      }
    },
    {
      "cell_type": "markdown",
      "source": [
        "**2. Instruction**\n",
        "\n",
        "It is  the general quantum operations.\n",
        "\n",
        "Instructions operate on Qubits and Clbits and are defined with specific parameters (params). This means that instructions affect only specific quantum bits (Qubits) and classical bits (Clbits) that are defined for them. An instruction must work only with the Qubits and Clbits specified for it, without depending on other parts or components of the circuit. Additionally, instructions should not contain hidden or unspecified parameters; all parameters should be explicitly defined. This makes instructions easier to understand, manage, and reuse.\n",
        "\n",
        "An Instruction can be decomposed into other circuits using the Instruction.definition property. This means defining smaller parts of the circuit. These definitions can use the most suitable set of operations for you, provided that the gates included in the circuit have a specific order. If you don't want an instruction to be optimized, the definition can be set to None.\n",
        "\n",
        "Technically, the parameters of an instruction can be anything, but it's generally best to use real numbers. Qiskit sometimes breaks this rule and uses parameters of different types, which can lead to errors. If your instruction is defined with angles, you can use parameters at compile time and work well with QuantumCircuit.assign_parameters().\n",
        "\n",
        "An Instruction does not need to be unitary (invertible), but its subclass Gate is unitary and includes additional methods like to_matrix() and control().\n",
        "\n"
      ],
      "metadata": {
        "id": "hgkTj3cd0-4A"
      }
    },
    {
      "cell_type": "markdown",
      "source": [
        "**3. Gate**\n",
        "\n",
        "It represents gates in quantum operations. It is a unitary operation.\n",
        "\n",
        "A Gate is a unitary operation used in quantum circuits that operates solely on quantum bits (Qubits) and does not interact with classical bits. Gates utilize all the properties of the Instruction class, meaning they have the same methods and parameters. Each Gate should have a fundamental definition: Every Gate must have a basic definition that explains how it operates. This definition shows what the gate does and how it functions. These definitions are predefined if you use a gate within Qiskit. If you create our own gate, it should have this definition"
      ],
      "metadata": {
        "id": "XbTXb5ZZ1CZQ"
      }
    },
    {
      "cell_type": "markdown",
      "source": [
        "###d. Real-Time Classical Computation\n",
        "\n",
        "Let's start by explaining the abbreviation QPU, which will be used in the following definitions:\n",
        "\n",
        "**QPU:**\n",
        "- Stands for Quantum Processing Unit.\n",
        "- It is the hardware component that performs computations in quantum computers.\n",
        "- While processors (CPUs) handle computation tasks in traditional computers, QPUs perform these tasks in quantum computers.\n",
        "- QPUs leverage quantum mechanical properties such as superposition and entanglement using quantum bits (qubits). This allows them to perform certain types of calculations much faster and more efficiently than traditional computers.\n",
        "\n",
        "Qiskit supports real-time classical computations that occur during QPU execution and influence its results. However, hardware support in this regard is still under development.\n",
        "\n",
        "Qiskit uses expression (Expr) and type systems to manage real-time classical computations. Here’s how these systems work:\n",
        "\n",
        "- **Expr and Type System:** Qiskit uses Expr and Type to represent classical computations. Expr defines the computation operations, and Type specifies what kind of data these expressions operate on.\n",
        "\n",
        "- **Expr Tree:** Real-time computations are organized in an \"Expr Tree\" structure. This structure consists of nodes where each Expr is a node. It shows how each Expr is related to others and in what order operations are performed.\n",
        "\n",
        "- **Expr Node:** Each expression is represented as a node called \"Expr.\" These nodes are part of computation operations, and each node is associated with a specific type. Types define what the data is and how it is processed.\n",
        "\n",
        "In summary, real-time classical computations in Qiskit are defined using Expr and type systems. These Exprs are organized as nodes in an Expr tree, where each node is associated with a specific data type. This system determines how computations are performed and what data is used."
      ],
      "metadata": {
        "id": "U0Vsh0Qa1JyP"
      }
    },
    {
      "cell_type": "markdown",
      "source": [
        "\n",
        "###e. Control Flow in Circuits\n",
        "\n",
        "Within QuantumCircuit, classical control flow is represented by specific Instructions that are subclasses of ControlFlowOp. Let's examine them here.\n",
        "\n",
        "**ControlFlowOp**\n",
        "\n",
        "**ControlFlowOp** is an abstract class that theoretically encompasses all control flow operations. These control flow operations (IfElseOp, WhileLoopOp, SwitchCaseOp, and ForLoopOp) have specific branching conditions and strategies. Additionally, they store all sub-circuit blocks they contain in a blocks property. In other words, each control flow operation has specific conditions that determine when and how it branches or loops, and it also holds sub-circuits that can be executed within these operations in the blocks property.\n",
        "\n",
        "- **IfElseOp**\n",
        "\n",
        "A circuit operation that evaluates a given condition and executes one program (true_body) if the condition evaluates to true, and optionally another program (false_body) if specified.\n",
        "\n",
        "- **WhileLoopOp**\n",
        "\n",
        "A circuit operation that repeatedly executes a sub-circuit (body) until a condition (condition) evaluates to false.\n",
        "\n",
        "- **SwitchCaseOp**\n",
        "\n",
        "A circuit operation that executes a specific circuit block based on matching a target against a sequential list of values.\n",
        "\n",
        "- **ForLoopOp**\n",
        "\n",
        "A circuit operation that iteratively executes a sub-circuit (body) parameterized with a parameter (loop_parameter) across a given range of integer values (indexset).\n",
        "\n",
        "ControlFlowOp subclasses are also subclasses of Instruction. This means that when stored within circuit instructions (CircuitInstruction), they are applied on specific qubits and clbits. This can lead to some issues related to data consistency. Qubits and Clbit objects used within the sub-circuit blocks of control flow operations may not correspond to the relevant objects in CircuitInstruction. Code using control flow operations in Qiskit should be aware of this.\n"
      ],
      "metadata": {
        "id": "_MP9ZmWQ1aSI"
      }
    }
  ]
}