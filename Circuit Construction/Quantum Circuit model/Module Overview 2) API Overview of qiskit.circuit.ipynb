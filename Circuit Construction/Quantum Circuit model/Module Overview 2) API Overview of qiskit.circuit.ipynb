{
  "nbformat": 4,
  "nbformat_minor": 0,
  "metadata": {
    "colab": {
      "provenance": []
    },
    "kernelspec": {
      "name": "python3",
      "display_name": "Python 3"
    },
    "language_info": {
      "name": "python"
    }
  },
  "cells": [
    {
      "cell_type": "markdown",
      "source": [
        "####**1.1.2. API overview of qiskit.circuit**\n",
        "\n",
        "The QuantumCircuit class is concerned with the creation of circuits. This class provides a fundamental interface for creating and manipulating quantum circuits. Quantum data and the simplest classical data are represented using structures called \"bits\" and \"registers.\" These structures are utilized when constructing quantum circuits and serve as the basic units of information within the circuits.\n",
        "\n",
        "In this section, we will take a general overview of the API elements discussed here. This general overview section will encompass all the API elements."
      ],
      "metadata": {
        "id": "Q-fduuoPwPQ_"
      }
    },
    {
      "cell_type": "markdown",
      "source": [
        "**Bit** is the fundamental unit of data and the smallest piece of information in a computer's memory. Within the Qiskit API, the **Bit Term** is further specialized into the following concepts:\n",
        "\n",
        "* **Bit** (the smallest unit of data)\n",
        "  * **Qubit**\n",
        "  * **Clbit**\n",
        "  * **AncillaQubit**\n",
        "\n",
        "Let's delve into each of these concepts again:\n",
        "\n",
        "**Qubit (Quantum Bit):**\n",
        "\n",
        "* A \"Qubit\" serves as the fundamental unit of information in quantum computers. It plays a similar role to classical bits in classical computers but operates according to the principles of quantum mechanics.\n",
        "* Unlike a classical bit, a qubit can exist in a superposition of both 0 and 1 states simultaneously. This property provides advantages such as superposition and quantum parallelism.\n",
        "\n",
        "**Clbit (Classical Bit):**\n",
        "\n",
        "* A \"Clbit\" is the classical data storage and processing unit in classical computers. A clbit can exist in only one state (typically 0 or 1) and does not operate according to the principles of quantum mechanics.\n",
        "* In quantum circuits, clbits are often used to communicate with classical computers or to store measurement outcomes.\n",
        "\n",
        "**AncillaQubit:**\n",
        "\n",
        "* An \"AncillaQubit\" refers to a supporting or auxiliary qubit. It can interact with main qubits (such as data qubits) and can be used to support various quantum operations and computations.\n",
        "* For example, ancilla qubits are used in quantum error correction codes or specific computational processes.\n",
        "\n"
      ],
      "metadata": {
        "id": "f0RoxJ56wwHj"
      }
    },
    {
      "cell_type": "markdown",
      "source": [
        "**Register** is used in the context of creating or establishing Qubits, Bits, or AncillaQubits in the operating environment of quantum computers. It involves different methods depending on which **bit** is being used.\n",
        "\n",
        "The concept of **Register** is divided into the following classes:\n",
        "\n",
        "- QuantumRegister\n",
        "- ClassicalRegister\n",
        "- AncillaRegister\n",
        "\n",
        "Now, let's delve deeper into each of them:\n",
        "\n",
        "**QuantumRegister:**\n",
        "\n",
        "- **QuantumRegister** is a structure used in quantum computers that represents a collection of qubits. The expression \"collection of qubits\" indicates that it can be used to create one or more qubits when needed.\n",
        "- A QuantumRegister can contain one or more qubits and is typically grouped for specific quantum computation operations.\n",
        "\n",
        "**ClassicalRegister:**\n",
        "\n",
        "- **ClassicalRegister** is not used in quantum computers; instead, it is used in classical computer systems.\n",
        "- ClassicalRegister represents a collection of classical bits and is typically grouped for classical computer operations. This allows us to create classical bits needed to observe the results of quantum computations on classical computers.\n",
        "\n",
        "**AncillaRegister:**\n",
        "\n",
        "- **AncillaRegister** represents a collection of auxiliary or supporting qubits used in quantum computations.\n",
        "- It is often used to group ancilla qubits used in quantum error correction codes or specific quantum algorithms.\n",
        "\n"
      ],
      "metadata": {
        "id": "8DeNN8GHxGXn"
      }
    },
    {
      "cell_type": "code",
      "source": [
        "from qiskit import QuantumRegister, ClassicalRegister, QuantumCircuit, AncillaRegister\n",
        "# 1. QuantumRegister - 3 Qubit\n",
        "q_qubit = QuantumRegister(3)\n",
        "\n",
        "# 2. ClassicalRegister -3 Classic Bit\n",
        "c_bit = ClassicalRegister(3)\n",
        "\n",
        "# 3. AncillaRegister -3 Ancilla Bit\n",
        "ancilla_bit = AncillaRegister(3)\n",
        "\n",
        "# Create Q_Circuit\n",
        "circuit = QuantumCircuit(q_qubit,c_bit,ancilla_bit)\n",
        "\n"
      ],
      "metadata": {
        "id": "ElHcw7tSxH-h"
      },
      "execution_count": 2,
      "outputs": []
    },
    {
      "cell_type": "markdown",
      "source": [
        "Let's discuss the fundamental components and classes of a quantum circuit simulation or application. These components are used for creating and manipulating quantum circuits, understanding the operations performed within them, and how these operations can be modified.\n",
        "\n",
        "**1. CircuitInstruction:**\n",
        "\n",
        "This class represents an operation (Operation) and its operands (qubits and clbits). Each step or command in a circuit is defined by this class. Therefore, it encompasses every operation to be performed in a quantum circuit and specifies which qubits or clbits are involved.\n",
        "\n",
        "**2. InstructionSet:**\n",
        "\n",
        "This class represents a temporary slice or specific section of a circuit. It is used to temporarily hold and process a portion or group of CircuitInstructions from a circuit.\n",
        "\n",
        "**3. Operation:**\n",
        "\n",
        "This is an abstract mathematical object or hardware command used to define operations performed in any quantum circuit. There can be various subclasses or types of this class.\n",
        "\n",
        "   - **3.1. AnnotatedOperation:** This is a subclass of Operation and represents operations with specific abstract modifiers applied to them. It denotes an operation with certain modifications.\n",
        "\n",
        "   - **3.2. InverseModifier:** This modifier represents the inverse of an operation. For example, taking the inverse of a gate.\n",
        "\n",
        "   - **3.3. ControlModifier:** This modifier adds a controlling qubit to an operation. Controlled operations are commonly used in quantum algorithms.\n",
        "\n",
        "   - **3.4. PowerModifier:** This modifier represents a power (specific exponent) of an operation. For example, the square of a gate.\n",
        "\n",
        "These definitions describe object-oriented programming components used to model more complex operations and structures within quantum circuits. Each class provides specific functionalities for creating and manipulating quantum circuits."
      ],
      "metadata": {
        "id": "VCEVwAc0xPyA"
      }
    },
    {
      "cell_type": "markdown",
      "source": [
        "Let's delve into the operations used in quantum circuits and their various subclasses, which are employed to define and implement quantum circuits in quantum computing.\n",
        "\n",
        "Here's a more detailed explanation of these components and classes:\n",
        "\n",
        "1. **Instruction**:\n",
        "   - The **Instruction** class represents a hardware-based operation. It is a command that can be directly executed on quantum hardware. In contrast to the more general **Operation** class, which may involve abstract mathematical concepts, an **Instruction** represents a concrete hardware command.\n",
        "\n",
        "2. **Gate**:\n",
        "   - **Gate** is a subclass of **Instruction** and represents a quantum gate. This class denotes a command that can be executed on hardware and possesses the property of unitarity (the property of a quantum operation being reversible). Unitarity ensures that operations in quantum computers can be performed without loss of information.\n",
        "\n",
        "3. **ControlledGate**:\n",
        "   - **ControlledGate** is a subclass of **Gate** and represents a gate with a control structure. It operates on other qubits depending on one or more control qubits. Controlled gates act on other qubits conditionally based on the state of a specific qubit.\n",
        "\n",
        "These definitions provide a deeper understanding of the various types of operations used in quantum circuits. Starting from the general **Operation** to more specific and hardware-oriented operation types:\n",
        "\n",
        "- **Operation**: General and abstract operations.\n",
        "- **Instruction**: Executable operations on hardware.\n",
        "- **Gate**: Hardware-based operations with unitarity.\n",
        "- **ControlledGate**: Unitarity operations with a control structure.\n",
        "\n",
        "This hierarchy is used to model more complex and precise operations in quantum circuits."
      ],
      "metadata": {
        "id": "LYB-TRRZxdKR"
      }
    },
    {
      "cell_type": "markdown",
      "source": [
        "Qiskit is known to offer a comprehensive toolkit for creating and manipulating quantum circuits, as we discussed earlier. In this library, various standard gates and circuits are defined as singleton Python objects.\n",
        "\n",
        "This mechanism is detailed in the **qiskit.circuit.singleton** module and consists of three main classes:\n",
        "- **SingletonInstruction**: A singleton instruction object.\n",
        "- **SingletonGate**: A singleton gate object.\n",
        "- **SingletonControlledGate**: A singleton controlled gate object."
      ],
      "metadata": {
        "id": "K5p5bBDyxob1"
      }
    },
    {
      "cell_type": "markdown",
      "source": [
        "**Some instructions carry special significance by affecting the control flow or data flow of the circuit.**\n",
        "\n",
        "These instructions include:\n",
        "\n",
        "* Barrier: Separates specific sections of the circuit to allow independent optimization of these sections.\n",
        "* Delay: Adds real-time waiting time.\n",
        "* Measure: Measures a Qubit into a Clbit.\n",
        "* Reset: Resets a qubit irreversibly to the ∣0⟩ state.\n",
        "* Store: Writes a real-time classical expression to a storage location.\n",
        "* ControlFlowOp: Represents control flow operations and has various subclasses:\n",
        "  - BreakLoopOp: Immediately stops and exits the nearest enclosing loop.\n",
        "  - ContinueLoopOp: Immediately proceeds to the next iteration of the current loop.\n",
        "  - ForLoopOp: Creates a loop that iterates over a specified range of numbers.\n",
        "  - IfElseOp: Selects one of two different circuits based on a specific condition.\n",
        "  - SwitchCaseOp: Selects one of multiple circuits based on a specific condition.\n",
        "  - WhileLoopOp: Repeats the same circuit until a specific condition becomes false."
      ],
      "metadata": {
        "id": "53yhSEwlykuj"
      }
    },
    {
      "cell_type": "markdown",
      "source": [
        "\n",
        "In Qiskit circuits, classical expressions evaluated in real-time while executing a single run of the circuit using the Quantum Processing Unit (QPU) can be found. These expressions are documented in the qiskit.circuit.classical module.\n",
        "Key classes include:\n",
        "\n",
        "* Var: A typed classical storage location in a circuit.\n",
        "* Expr: An expression evaluated in real-time.\n",
        "* Type: The classical type of an expression.\n",
        "\n",
        "Additionally, Qiskit introduces the concept of \"compile time\" parameterization. This involves operations conducted with abstract symbolic algebra and is used to represent gate angles in high-level algorithms. The relevant classes are:\n",
        "\n",
        "* Parameter: The atom of compile-time expressions.\n",
        "* ParameterExpression: Symbolic computations over parameters.\n",
        "* ParameterVector: A convenient collection of Parameters.\n",
        "\n",
        "The qiskit.circuit module also provides various computational classes to support compilation workflows for circuits:\n",
        "\n",
        "* EquivalenceLibrary: Database of decomposition relations between gates and circuits.\n",
        "* SessionEquivalenceLibrary: Modifiable instance of EquivalenceLibrary.\n",
        "\n",
        "There's also a utility available for generating random circuits:\n",
        "\n",
        "* random.random_circuit()\n",
        "\n",
        "Finally, the circuit module includes a specialized exception class used to specify circuit-specific issues:\n",
        "\n",
        "* CircuitError: Indicates errors related to the circuit."
      ],
      "metadata": {
        "id": "VFJVoFHYysGc"
      }
    }
  ]
}