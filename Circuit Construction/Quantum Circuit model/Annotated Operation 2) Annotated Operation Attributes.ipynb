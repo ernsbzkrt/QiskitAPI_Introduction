{
 "cells": [
  {
   "cell_type": "markdown",
   "metadata": {
    "id": "lPD1hItuzeZJ"
   },
   "source": [
    "#### **1.2.1. Annotated Operation Attributes**\n",
    "\n",
    "We have discussed how this class represents how a specific operation in quantum circuits can be defined with annotations. We now know that this class allows adding annotations and modifications to basic operations to provide more information and functionality on quantum circuits. This makes quantum algorithms and circuits more flexible and manageable. Now, let's discuss the attributes of this class. But before that, what are attributes?\n",
    "\n",
    "Attributes are pieces of data that describe certain properties or states of an object. In the context of software development, attributes are often variables within classes used to store and change an object's state.\n",
    "\n",
    "**Let's give a very common example in the software world.**\n",
    "\n",
    "*In a car class, attributes might include color, model, and speed.*\n",
    "\n",
    "Now let's discuss the attributes of the **AnnotatedOperation** class.\n",
    "\n",
    "* **name:** The name of the operation, typically a unique string value.\n",
    "* **num_clbits:** Indicates how many classical bits the operation uses.\n",
    "* **num_qubits:** Indicates how many qubits the operation uses.\n",
    "* **base_op:** Defines the base operation of the AnnotatedOperation. It specifies gate definitions and allows adding and applying this gate to the quantum circuit. If necessary, it combines operations in the quantum circuit with modifications to create more complex operations.\n",
    "* **modifiers:** Specifies the sequence of modifications applied to the basic operation."
   ]
  },
  {
   "cell_type": "markdown",
   "metadata": {
    "id": "mm-fNTGdzhEV"
   },
   "source": [
    "### 1. Name;"
   ]
  },
  {
   "cell_type": "code",
   "execution_count": 3,
   "metadata": {
    "colab": {
     "base_uri": "https://localhost:8080/"
    },
    "id": "bLso08FHzisD",
    "outputId": "4b386c26-9b6b-473a-e115-edaa02d55704"
   },
   "outputs": [
    {
     "name": "stdout",
     "output_type": "stream",
     "text": [
      "MyCustomGate\n"
     ]
    }
   ],
   "source": [
    "from qiskit.circuit import Gate\n",
    "my_custom_gate = Gate(name='MyCustomGate', num_qubits=1, params=[])\n",
    "print(my_custom_gate.name)\n"
   ]
  },
  {
   "cell_type": "markdown",
   "metadata": {
    "id": "CBCXpP-8zlS3"
   },
   "source": [
    "**Burada oluşturdugumuz kapıya işlevsellik kazandırmak istersek Gate sınıfını miras almamız ve matris temsilini belirlememiz gerekir.**"
   ]
  },
  {
   "cell_type": "markdown",
   "metadata": {
    "id": "DKmfoYGmzmf2"
   },
   "source": [
    "### 2. num_clbits & num_qubits;"
   ]
  },
  {
   "cell_type": "code",
   "execution_count": 4,
   "metadata": {
    "colab": {
     "base_uri": "https://localhost:8080/"
    },
    "id": "r5G8tgdWzn_3",
    "outputId": "bda999da-8bc4-4d98-b0a6-377c4c531261"
   },
   "outputs": [
    {
     "name": "stdout",
     "output_type": "stream",
     "text": [
      "Number of classical bits: 2\n",
      "Number of qubits: 1\n"
     ]
    }
   ],
   "source": [
    "from qiskit.circuit import ClassicalRegister, QuantumRegister, QuantumCircuit\n",
    "\n",
    "clbits = ClassicalRegister(2, 'clbits')\n",
    "qbits = QuantumRegister(1, 'qbits')\n",
    "qc = QuantumCircuit(qbits, clbits)\n",
    "\n",
    "print(f\"Number of classical bits: {qc.num_clbits}\")\n",
    "print(f\"Number of qubits: {qc.num_qubits}\")\n"
   ]
  },
  {
   "cell_type": "markdown",
   "metadata": {
    "id": "51o8Ex9UzqGJ"
   },
   "source": [
    "### 3.  base_op;"
   ]
  },
  {
   "cell_type": "code",
   "execution_count": 5,
   "metadata": {
    "colab": {
     "base_uri": "https://localhost:8080/"
    },
    "id": "a-EqkM_ezqk-",
    "outputId": "4ac2fd26-8d44-4c77-900b-b24a069e9817"
   },
   "outputs": [
    {
     "name": "stdout",
     "output_type": "stream",
     "text": [
      "   ┌───┐\n",
      "q: ┤ H ├\n",
      "   └───┘\n"
     ]
    }
   ],
   "source": [
    "from qiskit.circuit import QuantumCircuit\n",
    "from qiskit.circuit.library import HGate\n",
    "base_op = HGate()\n",
    "qc = QuantumCircuit(1)\n",
    "qc.append(base_op, [0])\n",
    "print(qc)\n"
   ]
  },
  {
   "cell_type": "markdown",
   "metadata": {
    "id": "WOCvKwxUzskr"
   },
   "source": [
    "### 4. modifiers;"
   ]
  },
  {
   "cell_type": "code",
   "execution_count": 6,
   "metadata": {
    "colab": {
     "base_uri": "https://localhost:8080/"
    },
    "id": "j-zRICDhzteW",
    "outputId": "6f13b81d-9f15-4bac-e01f-c3a486499525"
   },
   "outputs": [
    {
     "name": "stdout",
     "output_type": "stream",
     "text": [
      "                                            \n",
      "q_0: ─────────────────■─────────────────────\n",
      "     ┌───┐┌───┐┌───┐┌─┴─┐┌─────┐┌───┐┌─────┐\n",
      "q_1: ┤ S ├┤ H ├┤ T ├┤ X ├┤ Tdg ├┤ H ├┤ Sdg ├\n",
      "     └───┘└───┘└───┘└───┘└─────┘└───┘└─────┘\n"
     ]
    }
   ],
   "source": [
    "from qiskit.circuit import QuantumCircuit\n",
    "from qiskit.circuit.library import HGate\n",
    "base_op = HGate()\n",
    "controlled_op = base_op.control()\n",
    "qc = QuantumCircuit(2)\n",
    "qc.append(controlled_op, [0, 1])\n",
    "print(controlled_op.definition)\n"
   ]
  },
  {
   "cell_type": "markdown",
   "metadata": {
    "id": "ReKjFtbxzuzx"
   },
   "source": [
    "Let's discuss this a bit more.\n",
    "\n",
    "* In this code, the `base_op.control()` expression modifies the HGate, which is the Hadamard Gate. The `control()` method converts the Hadamard Gate into a controlled Hadamard Gate.\n",
    "* This modification ensures that the Hadamard Gate is applied only when a specific control qubit is in a particular state. For example, the `controlled_op` will apply the Hadamard gate to the 1st qubit only when the state of the 0th qubit is 1.\n",
    "\n",
    "This means that the control operation adds a conditional aspect to the gate's application, allowing for more complex and conditional quantum operations. This is particularly useful in algorithms where certain operations should only be performed based on the state of other qubits, thus providing greater flexibility and control within quantum circuits."
   ]
  }
 ],
 "metadata": {
  "colab": {
   "provenance": []
  },
  "kernelspec": {
   "display_name": "Python 3 (ipykernel)",
   "language": "python",
   "name": "python3"
  },
  "language_info": {
   "codemirror_mode": {
    "name": "ipython",
    "version": 3
   },
   "file_extension": ".py",
   "mimetype": "text/x-python",
   "name": "python",
   "nbconvert_exporter": "python",
   "pygments_lexer": "ipython3",
   "version": "3.12.4"
  }
 },
 "nbformat": 4,
 "nbformat_minor": 4
}
