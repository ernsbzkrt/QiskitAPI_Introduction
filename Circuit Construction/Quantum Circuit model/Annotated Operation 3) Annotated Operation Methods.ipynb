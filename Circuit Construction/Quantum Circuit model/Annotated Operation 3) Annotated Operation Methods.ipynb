{
  "nbformat": 4,
  "nbformat_minor": 0,
  "metadata": {
    "colab": {
      "provenance": []
    },
    "kernelspec": {
      "name": "python3",
      "display_name": "Python 3"
    },
    "language_info": {
      "name": "python"
    }
  },
  "cells": [
    {
      "cell_type": "markdown",
      "source": [
        "####**1.2.2. Annotated Operation Methods**\n",
        "\n",
        "The methods of a class define the operations that can be performed on the objects of that class. They are used to process, modify, or execute specific actions on the data that the class holds.\n",
        "\n",
        "**Let's give a very common example in the software world.**\n",
        "\n",
        "*For instance, in a calculator class, there might be methods like **add()** and **subtract()**. These methods perform addition and subtraction operations on the calculator object.*"
      ],
      "metadata": {
        "id": "smv3wKeL0CR4"
      }
    },
    {
      "cell_type": "markdown",
      "source": [
        "Now let's discuss the methods of the **AnnotatedOperation** class.\n",
        "\n",
        "* **control():** Creates a controlled version of the operation. For example, it can be used to transform a Hadamard gate into a controlled Hadamard gate.\n",
        "* **copy():** Creates a copy of the operation. This is useful when you want to use the same operation multiple times.\n",
        "* **inverse():** Creates the inverse of the operation. For example, it is used to get the inverse of a gate.\n",
        "* **power():** Raises the operation to a specific power. By taking the power of a gate, you can create more complex operations.\n",
        "* **to_matrix():** Returns the matrix representation of the operation. This provides the mathematical representation of the operation.\n",
        "\n",
        "**Now, let's make a general example and conclude this topic here.**"
      ],
      "metadata": {
        "id": "35ETW7du0NEV"
      }
    },
    {
      "cell_type": "code",
      "source": [
        "from qiskit.circuit import QuantumCircuit, Gate\n",
        "from qiskit.circuit.library import HGate\n",
        "import numpy as np\n",
        "\n",
        "base_op = HGate()\n",
        "\n",
        "# 1. Control() Method\n",
        "controlled_op = base_op.control()\n",
        "qc1 = QuantumCircuit(2)\n",
        "qc1.append(controlled_op, [0, 1])\n",
        "print(\"Controlled Operation:\\n\", qc1)\n",
        "\n",
        "# 2. Copy() Method\n",
        "copied_op = base_op.copy()\n",
        "qc2 = QuantumCircuit(1)\n",
        "qc2.append(copied_op, [0])\n",
        "print(\"\\nCopied Operation:\\n\", qc2)\n",
        "\n",
        "# 3. Inverse() Metod\n",
        "inverse_op = base_op.inverse()\n",
        "qc3 = QuantumCircuit(1)\n",
        "qc3.append(inverse_op, [0])\n",
        "print(\"\\nInverse Operation:\\n\", qc3)\n",
        "\n",
        "# 4. Power() Metod\n",
        "powered_op = base_op.power(2)  # H^2\n",
        "qc4 = QuantumCircuit(1)\n",
        "qc4.append(powered_op, [0])\n",
        "print(\"\\nPowered Operation (H^2):\\n\", qc4)\n",
        "\n",
        "# 5. To_Matrix() Metod\n",
        "matrix_op = base_op.to_matrix()\n",
        "print(\"\\nMatrix Representation of HGate:\\n\", matrix_op)\n"
      ],
      "metadata": {
        "colab": {
          "base_uri": "https://localhost:8080/"
        },
        "id": "cWu1j3_k0UNj",
        "outputId": "9d82a94b-7ebd-42c6-80b4-98baf4315012"
      },
      "execution_count": 7,
      "outputs": [
        {
          "output_type": "stream",
          "name": "stdout",
          "text": [
            "Controlled Operation:\n",
            "           \n",
            "q_0: ──■──\n",
            "     ┌─┴─┐\n",
            "q_1: ┤ H ├\n",
            "     └───┘\n",
            "\n",
            "Copied Operation:\n",
            "    ┌───┐\n",
            "q: ┤ H ├\n",
            "   └───┘\n",
            "\n",
            "Inverse Operation:\n",
            "    ┌───┐\n",
            "q: ┤ H ├\n",
            "   └───┘\n",
            "\n",
            "Powered Operation (H^2):\n",
            "    ┌─────┐\n",
            "q: ┤ h^2 ├\n",
            "   └─────┘\n",
            "\n",
            "Matrix Representation of HGate:\n",
            " [[ 0.70710678+0.j  0.70710678+0.j]\n",
            " [ 0.70710678+0.j -0.70710678+0.j]]\n"
          ]
        }
      ]
    },
    {
      "cell_type": "markdown",
      "source": [
        "Now let's delve into the example.\n",
        "\n",
        "* **control():** Transforms a Hadamard gate into a controlled Hadamard gate and adds this gate to a two-qubit circuit.\n",
        "\n",
        "* **copy():** Creates a copy of the Hadamard gate and adds this copy to a single-qubit circuit.\n",
        "\n",
        "* **inverse():** Takes the inverse of the Hadamard gate and adds this inverse gate to a single-qubit circuit.\n",
        "\n",
        "* **power():** Raises the Hadamard gate to the given power (in this case, the 2nd power) and adds this gate to a single-qubit circuit.\n",
        "\n",
        "* **to_matrix():** Gets the matrix representation of the Hadamard gate and displays the matrix output.\n",
        "\n",
        "This example demonstrates how the **methods of the AnnotatedOperation class** can be used in quantum circuits and illustrates the functionality of each method."
      ],
      "metadata": {
        "id": "YAAb-eE90rHD"
      }
    }
  ]
}