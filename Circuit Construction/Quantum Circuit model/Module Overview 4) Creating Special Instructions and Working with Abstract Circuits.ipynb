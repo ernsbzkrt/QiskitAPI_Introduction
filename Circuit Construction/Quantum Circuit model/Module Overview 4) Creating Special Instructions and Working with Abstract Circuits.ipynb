{
  "nbformat": 4,
  "nbformat_minor": 0,
  "metadata": {
    "colab": {
      "provenance": []
    },
    "kernelspec": {
      "name": "python3",
      "display_name": "Python 3"
    },
    "language_info": {
      "name": "python"
    }
  },
  "cells": [
    {
      "cell_type": "markdown",
      "source": [
        "### **1.1.4. Creating Special Instructions**\n",
        "\n",
        "If we want to create simple and one-time instructions or gates to add to a circuit, the easiest way is to construct the instructions of the structures we want to add as a QuantumCircuit. Then, we convert this circuit into an instruction or gate using the **`to_instruction()`** or **`to_gate()`** methods. This resulting instruction or gate can be directly added to a larger circuit using the **`QuantumCircuit.append()`** method. These methods create basic Instruction or Gate instances that include the circuit as a defining attribute, making the instruction or gate accessible to other Qiskit functions such as compilers and circuit decompositions.\n",
        "\n",
        "Note that independent instructions and gates should only operate on qubits and clbits. Instructions needing complex control flow should be composed using **`compose()`** on the QuantumCircuit.\n",
        "\n"
      ],
      "metadata": {
        "id": "tEmbZ2NP-hZI"
      }
    },
    {
      "cell_type": "markdown",
      "source": [
        "### **1.1.5. Working with Abstract Circuits**\n",
        "\n",
        "**1.1.5. Working with Abstract Circuits**\n",
        "\n",
        "**a. Converting Abstract Circuits to Physical Circuits**\n",
        "\n",
        "Directly running an abstract QuantumCircuit on hardware to convert abstract circuits into physical circuits isn't feasible. High-level simulators can be used for small circuits, but larger and more complex circuits require real hardware. This process involves compiling the abstract circuit into a physical circuit.\n",
        "\n",
        "The primary function used for this is `transpile()`. This function takes an abstract circuit and a target hardware and transforms it into a physical circuit. To provide further control and customization during this process, you can create a `StagedPassManager` using `generate_preset_pass_manager()` and modify this manager to control the stages of passes. All transpilation and compilation processes are detailed extensively in Qiskit's `qiskit.transpiler` module.\n",
        "\n",
        "**b. Simulating Circuits**\n",
        "\n",
        "Obtaining rapid simulation results for QuantumCircuit objects is not actually part of the Qiskit.circuit interface. However, such simulation results are often needed. For unitary circuits, you can simulate their effects on the state ∣0⋯0⟩ by passing the QuantumCircuit directly to the `Statevector` default constructor. Similarly, to obtain a unitary matrix representing the circuit as an operator, you can pass the QuantumCircuit to the `Operator` default constructor. If you have a physical circuit, you may instead want to apply transformations from QuantumCircuit.layout back to the \"abstract\" qubit area on behalf of the Operator.from_circuit() methods.\n",
        "\n",
        "For a backend-like simulation experience, all Qiskit hardware interfaces have simulator-backed implementations. Some that you might be particularly interested in include:\n",
        "\n",
        "* BasicProvider and the hardware is what it can return.\n",
        "* StatevectorSimulator for a backend-like wrapper around Statevector.\n",
        "* qiskit_aer for full, high-performance simulation capabilities.\n",
        "\n",
        "StatevectorSampler and StatevectorEstimator are simulated backed implementation examples that are proposed."
      ],
      "metadata": {
        "id": "UPXhHxot_34j"
      }
    }
  ]
}